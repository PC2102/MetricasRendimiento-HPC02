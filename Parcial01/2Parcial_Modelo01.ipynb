{
  "cells": [
    {
      "cell_type": "markdown",
      "metadata": {
        "id": "view-in-github",
        "colab_type": "text"
      },
      "source": [
        "<a href=\"https://colab.research.google.com/github/PC2102/MetricasRendimiento-HPC02/blob/main/Parcial01/2Parcial_Modelo01.ipynb\" target=\"_parent\"><img src=\"https://colab.research.google.com/assets/colab-badge.svg\" alt=\"Open In Colab\"/></a>"
      ]
    },
    {
      "cell_type": "markdown",
      "metadata": {
        "id": "Sgnty-dr-q0w"
      },
      "source": [
        "![](./img/logo.png)"
      ]
    },
    {
      "cell_type": "markdown",
      "metadata": {
        "id": "_VDR4RxM-q0z"
      },
      "source": [
        "# 1er Parcial: Análisis Exploratorio de Datos. \n",
        "\n",
        "\n",
        "### Nombre Estudiante: Pedro Luis Cardenas Diaz\n",
        "### Cédula de Ciudadanía: 1.000.698.238"
      ]
    },
    {
      "cell_type": "markdown",
      "metadata": {
        "id": "h3v7LUE7-q02"
      },
      "source": [
        "# Modelo **01**\n",
        "\n",
        "### Descripción de Valores:\n",
        "\n",
        "    UNIQUE_ID: continuo.\n",
        "    POSITION_TITLE: ASSISTANT DIRECTOR (EX LVL), LIBRARY ASSISTANT, DEPUTY ASSISTANT DIRECTOR (EXECUTIVE LEV',\n",
        "                    POLICE OFFICER, ENGINEER/OPERATOR, ELECTRICIAN, FIRE FIGHTER,\n",
        "                    SENIOR POLICE OFFICER, ENGINEER, CARPENTER, AIRPORT OPERATIONS COORDINATOR,\n",
        "                    ASSOCIATE EMS PHYSICIAN DIRECTOR, FIELD SUPERVISOR, ....\n",
        "    DEPARTMENT: Municipal Courts Department', Library, Planning & Development, Convention and Entertainment,\n",
        "                Houston Police Department-HPD, Houston Fire Department (HFD), Mayor's Office, \n",
        "                General Services Department, Public Works & Engineering-PWE, Admn. & Regulatory Affairs,\n",
        "                Houston Airport System (HAS), Health & Human Services, Dept of Neighborhoods (DON), \n",
        "                Finance, 'Fleet Management Department, Solid Waste Management, 'Legal Department',\n",
        "                City Council, 'Human Resources Dept.', Parks & Recreation, Housing and Community Devp.,\n",
        "                Houston Emergency Center (HEC), Houston Information Tech Svcs, City Controller's Office.\n",
        "    BASE_SALARY: continuo.             \n",
        "    RACE: Hispanic/Latino, White, Black or African American, Asian/Pacific Islander,\n",
        "          American Indian or Alaskan Native, Others.\n",
        "    EMPLOYMENT_TYPE: Full Time, Part Time 30, Part Time, Temporary, HFD Deferred Term.\n",
        "    GENGER: Female, Male.\n",
        "    EMPLOYMENT_STATUS: Active, Inactive.\n",
        "    HIRE_DATE: Fecha (Año-Mes-Día).\n",
        "    JOB_DATE: Fecha (Año-Mes-Día).\n",
        "    "
      ]
    },
    {
      "cell_type": "markdown",
      "metadata": {
        "id": "wPnIfHv5-q04"
      },
      "source": [
        "## 0.- Bibliotecas y Lectura"
      ]
    },
    {
      "cell_type": "code",
      "execution_count": 1,
      "metadata": {
        "id": "a2QB5Ga5-q05"
      },
      "outputs": [],
      "source": [
        "# Se importa las bibliotecas necesarias\n",
        "import pandas as pd\n",
        "import numpy as np\n",
        "import seaborn as sns\n",
        "import matplotlib.pyplot as plt"
      ]
    },
    {
      "cell_type": "code",
      "execution_count": 2,
      "metadata": {
        "colab": {
          "base_uri": "https://localhost:8080/",
          "height": 206
        },
        "id": "HNhiZZC5-q06",
        "outputId": "e244c97d-56be-444c-c916-f8b54706ae02"
      },
      "outputs": [
        {
          "output_type": "execute_result",
          "data": {
            "text/plain": [
              "   UNIQUE_ID               POSITION_TITLE                     DEPARTMENT  \\\n",
              "0          0  ASSISTANT DIRECTOR (EX LVL)    Municipal Courts Department   \n",
              "1          1            LIBRARY ASSISTANT                        Library   \n",
              "2          2               POLICE OFFICER  Houston Police Department-HPD   \n",
              "3          3            ENGINEER/OPERATOR  Houston Fire Department (HFD)   \n",
              "4          4                  ELECTRICIAN    General Services Department   \n",
              "\n",
              "   BASE_SALARY             RACE EMPLOYMENT_TYPE  GENDER EMPLOYMENT_STATUS  \\\n",
              "0     121862.0  Hispanic/Latino       Full Time  Female            Active   \n",
              "1      26125.0  Hispanic/Latino       Full Time  Female            Active   \n",
              "2      45279.0            White       Full Time    Male            Active   \n",
              "3      63166.0            White       Full Time    Male            Active   \n",
              "4      56347.0            White       Full Time    Male            Active   \n",
              "\n",
              "    HIRE_DATE    JOB_DATE  \n",
              "0  2006-06-12  2012-10-13  \n",
              "1  2000-07-19  2010-09-18  \n",
              "2  2015-02-03  2015-02-03  \n",
              "3  1982-02-08  1991-05-25  \n",
              "4  1989-06-19  1994-10-22  "
            ],
            "text/html": [
              "\n",
              "  <div id=\"df-04840881-41d4-4520-9580-bac20e63ccc0\">\n",
              "    <div class=\"colab-df-container\">\n",
              "      <div>\n",
              "<style scoped>\n",
              "    .dataframe tbody tr th:only-of-type {\n",
              "        vertical-align: middle;\n",
              "    }\n",
              "\n",
              "    .dataframe tbody tr th {\n",
              "        vertical-align: top;\n",
              "    }\n",
              "\n",
              "    .dataframe thead th {\n",
              "        text-align: right;\n",
              "    }\n",
              "</style>\n",
              "<table border=\"1\" class=\"dataframe\">\n",
              "  <thead>\n",
              "    <tr style=\"text-align: right;\">\n",
              "      <th></th>\n",
              "      <th>UNIQUE_ID</th>\n",
              "      <th>POSITION_TITLE</th>\n",
              "      <th>DEPARTMENT</th>\n",
              "      <th>BASE_SALARY</th>\n",
              "      <th>RACE</th>\n",
              "      <th>EMPLOYMENT_TYPE</th>\n",
              "      <th>GENDER</th>\n",
              "      <th>EMPLOYMENT_STATUS</th>\n",
              "      <th>HIRE_DATE</th>\n",
              "      <th>JOB_DATE</th>\n",
              "    </tr>\n",
              "  </thead>\n",
              "  <tbody>\n",
              "    <tr>\n",
              "      <th>0</th>\n",
              "      <td>0</td>\n",
              "      <td>ASSISTANT DIRECTOR (EX LVL)</td>\n",
              "      <td>Municipal Courts Department</td>\n",
              "      <td>121862.0</td>\n",
              "      <td>Hispanic/Latino</td>\n",
              "      <td>Full Time</td>\n",
              "      <td>Female</td>\n",
              "      <td>Active</td>\n",
              "      <td>2006-06-12</td>\n",
              "      <td>2012-10-13</td>\n",
              "    </tr>\n",
              "    <tr>\n",
              "      <th>1</th>\n",
              "      <td>1</td>\n",
              "      <td>LIBRARY ASSISTANT</td>\n",
              "      <td>Library</td>\n",
              "      <td>26125.0</td>\n",
              "      <td>Hispanic/Latino</td>\n",
              "      <td>Full Time</td>\n",
              "      <td>Female</td>\n",
              "      <td>Active</td>\n",
              "      <td>2000-07-19</td>\n",
              "      <td>2010-09-18</td>\n",
              "    </tr>\n",
              "    <tr>\n",
              "      <th>2</th>\n",
              "      <td>2</td>\n",
              "      <td>POLICE OFFICER</td>\n",
              "      <td>Houston Police Department-HPD</td>\n",
              "      <td>45279.0</td>\n",
              "      <td>White</td>\n",
              "      <td>Full Time</td>\n",
              "      <td>Male</td>\n",
              "      <td>Active</td>\n",
              "      <td>2015-02-03</td>\n",
              "      <td>2015-02-03</td>\n",
              "    </tr>\n",
              "    <tr>\n",
              "      <th>3</th>\n",
              "      <td>3</td>\n",
              "      <td>ENGINEER/OPERATOR</td>\n",
              "      <td>Houston Fire Department (HFD)</td>\n",
              "      <td>63166.0</td>\n",
              "      <td>White</td>\n",
              "      <td>Full Time</td>\n",
              "      <td>Male</td>\n",
              "      <td>Active</td>\n",
              "      <td>1982-02-08</td>\n",
              "      <td>1991-05-25</td>\n",
              "    </tr>\n",
              "    <tr>\n",
              "      <th>4</th>\n",
              "      <td>4</td>\n",
              "      <td>ELECTRICIAN</td>\n",
              "      <td>General Services Department</td>\n",
              "      <td>56347.0</td>\n",
              "      <td>White</td>\n",
              "      <td>Full Time</td>\n",
              "      <td>Male</td>\n",
              "      <td>Active</td>\n",
              "      <td>1989-06-19</td>\n",
              "      <td>1994-10-22</td>\n",
              "    </tr>\n",
              "  </tbody>\n",
              "</table>\n",
              "</div>\n",
              "      <button class=\"colab-df-convert\" onclick=\"convertToInteractive('df-04840881-41d4-4520-9580-bac20e63ccc0')\"\n",
              "              title=\"Convert this dataframe to an interactive table.\"\n",
              "              style=\"display:none;\">\n",
              "        \n",
              "  <svg xmlns=\"http://www.w3.org/2000/svg\" height=\"24px\"viewBox=\"0 0 24 24\"\n",
              "       width=\"24px\">\n",
              "    <path d=\"M0 0h24v24H0V0z\" fill=\"none\"/>\n",
              "    <path d=\"M18.56 5.44l.94 2.06.94-2.06 2.06-.94-2.06-.94-.94-2.06-.94 2.06-2.06.94zm-11 1L8.5 8.5l.94-2.06 2.06-.94-2.06-.94L8.5 2.5l-.94 2.06-2.06.94zm10 10l.94 2.06.94-2.06 2.06-.94-2.06-.94-.94-2.06-.94 2.06-2.06.94z\"/><path d=\"M17.41 7.96l-1.37-1.37c-.4-.4-.92-.59-1.43-.59-.52 0-1.04.2-1.43.59L10.3 9.45l-7.72 7.72c-.78.78-.78 2.05 0 2.83L4 21.41c.39.39.9.59 1.41.59.51 0 1.02-.2 1.41-.59l7.78-7.78 2.81-2.81c.8-.78.8-2.07 0-2.86zM5.41 20L4 18.59l7.72-7.72 1.47 1.35L5.41 20z\"/>\n",
              "  </svg>\n",
              "      </button>\n",
              "      \n",
              "  <style>\n",
              "    .colab-df-container {\n",
              "      display:flex;\n",
              "      flex-wrap:wrap;\n",
              "      gap: 12px;\n",
              "    }\n",
              "\n",
              "    .colab-df-convert {\n",
              "      background-color: #E8F0FE;\n",
              "      border: none;\n",
              "      border-radius: 50%;\n",
              "      cursor: pointer;\n",
              "      display: none;\n",
              "      fill: #1967D2;\n",
              "      height: 32px;\n",
              "      padding: 0 0 0 0;\n",
              "      width: 32px;\n",
              "    }\n",
              "\n",
              "    .colab-df-convert:hover {\n",
              "      background-color: #E2EBFA;\n",
              "      box-shadow: 0px 1px 2px rgba(60, 64, 67, 0.3), 0px 1px 3px 1px rgba(60, 64, 67, 0.15);\n",
              "      fill: #174EA6;\n",
              "    }\n",
              "\n",
              "    [theme=dark] .colab-df-convert {\n",
              "      background-color: #3B4455;\n",
              "      fill: #D2E3FC;\n",
              "    }\n",
              "\n",
              "    [theme=dark] .colab-df-convert:hover {\n",
              "      background-color: #434B5C;\n",
              "      box-shadow: 0px 1px 3px 1px rgba(0, 0, 0, 0.15);\n",
              "      filter: drop-shadow(0px 1px 2px rgba(0, 0, 0, 0.3));\n",
              "      fill: #FFFFFF;\n",
              "    }\n",
              "  </style>\n",
              "\n",
              "      <script>\n",
              "        const buttonEl =\n",
              "          document.querySelector('#df-04840881-41d4-4520-9580-bac20e63ccc0 button.colab-df-convert');\n",
              "        buttonEl.style.display =\n",
              "          google.colab.kernel.accessAllowed ? 'block' : 'none';\n",
              "\n",
              "        async function convertToInteractive(key) {\n",
              "          const element = document.querySelector('#df-04840881-41d4-4520-9580-bac20e63ccc0');\n",
              "          const dataTable =\n",
              "            await google.colab.kernel.invokeFunction('convertToInteractive',\n",
              "                                                     [key], {});\n",
              "          if (!dataTable) return;\n",
              "\n",
              "          const docLinkHtml = 'Like what you see? Visit the ' +\n",
              "            '<a target=\"_blank\" href=https://colab.research.google.com/notebooks/data_table.ipynb>data table notebook</a>'\n",
              "            + ' to learn more about interactive tables.';\n",
              "          element.innerHTML = '';\n",
              "          dataTable['output_type'] = 'display_data';\n",
              "          await google.colab.output.renderOutput(dataTable, element);\n",
              "          const docLink = document.createElement('div');\n",
              "          docLink.innerHTML = docLinkHtml;\n",
              "          element.appendChild(docLink);\n",
              "        }\n",
              "      </script>\n",
              "    </div>\n",
              "  </div>\n",
              "  "
            ]
          },
          "metadata": {},
          "execution_count": 2
        }
      ],
      "source": [
        "# Se importa el dataset a un objeto dataframe y se visualiza\n",
        "url = 'https://raw.githubusercontent.com/PC2102/MetricasRendimiento-HPC02/main/Parcial01/employee.csv'\n",
        "df_employee = pd.read_csv(url, na_values=' ?')\n",
        "df_employee.head()"
      ]
    },
    {
      "cell_type": "code",
      "execution_count": 3,
      "metadata": {
        "colab": {
          "base_uri": "https://localhost:8080/"
        },
        "id": "8aA4x0D0-q08",
        "outputId": "d3c85f5e-f0c8-4d96-ba8b-c9631b3af32c"
      },
      "outputs": [
        {
          "output_type": "stream",
          "name": "stdout",
          "text": [
            "<class 'pandas.core.frame.DataFrame'>\n",
            "RangeIndex: 2000 entries, 0 to 1999\n",
            "Data columns (total 10 columns):\n",
            " #   Column             Non-Null Count  Dtype  \n",
            "---  ------             --------------  -----  \n",
            " 0   UNIQUE_ID          2000 non-null   int64  \n",
            " 1   POSITION_TITLE     2000 non-null   object \n",
            " 2   DEPARTMENT         2000 non-null   object \n",
            " 3   BASE_SALARY        1886 non-null   float64\n",
            " 4   RACE               1965 non-null   object \n",
            " 5   EMPLOYMENT_TYPE    2000 non-null   object \n",
            " 6   GENDER             2000 non-null   object \n",
            " 7   EMPLOYMENT_STATUS  2000 non-null   object \n",
            " 8   HIRE_DATE          2000 non-null   object \n",
            " 9   JOB_DATE           1997 non-null   object \n",
            "dtypes: float64(1), int64(1), object(8)\n",
            "memory usage: 156.4+ KB\n"
          ]
        }
      ],
      "source": [
        "# Se visualiza los datos de el dataframe para observar si hay algun problema con los datos\n",
        "df_employee.info()"
      ]
    },
    {
      "cell_type": "markdown",
      "source": [
        "Encontramos que el dataframe sufre una perdida de datos en las columnas de BASE_SALARY, RACE y JOB_DATE."
      ],
      "metadata": {
        "id": "P6iImIt1BFHP"
      }
    },
    {
      "cell_type": "markdown",
      "metadata": {
        "id": "0S9S5EiY-q08"
      },
      "source": [
        "## 1.- Limpieza de los datos ( NaN)\n",
        "    - Bonus: ¿Cuantas Filas se han eliminado después de la limpieza?"
      ]
    },
    {
      "cell_type": "code",
      "execution_count": 4,
      "metadata": {
        "colab": {
          "base_uri": "https://localhost:8080/"
        },
        "id": "ETrwkA94-q1A",
        "outputId": "d496a208-15b2-4231-baa8-a61272437426"
      },
      "outputs": [
        {
          "output_type": "stream",
          "name": "stdout",
          "text": [
            "<class 'pandas.core.frame.DataFrame'>\n",
            "Int64Index: 1853 entries, 0 to 1999\n",
            "Data columns (total 10 columns):\n",
            " #   Column             Non-Null Count  Dtype  \n",
            "---  ------             --------------  -----  \n",
            " 0   UNIQUE_ID          1853 non-null   int64  \n",
            " 1   POSITION_TITLE     1853 non-null   object \n",
            " 2   DEPARTMENT         1853 non-null   object \n",
            " 3   BASE_SALARY        1853 non-null   float64\n",
            " 4   RACE               1853 non-null   object \n",
            " 5   EMPLOYMENT_TYPE    1853 non-null   object \n",
            " 6   GENDER             1853 non-null   object \n",
            " 7   EMPLOYMENT_STATUS  1853 non-null   object \n",
            " 8   HIRE_DATE          1853 non-null   object \n",
            " 9   JOB_DATE           1853 non-null   object \n",
            "dtypes: float64(1), int64(1), object(8)\n",
            "memory usage: 159.2+ KB\n"
          ]
        }
      ],
      "source": [
        "# Se procede a eliminar los valores desaparecidos\n",
        "df_employee = df_employee.dropna()\n",
        "\n",
        "df_employee.info()"
      ]
    },
    {
      "cell_type": "markdown",
      "source": [
        "Al realizar el dropeo de las filas que sufren una perdida de datos, se observa que ciertas columnas sufrieron una mayor perdida de datos comparadas a otras."
      ],
      "metadata": {
        "id": "OtyNCrSUBak7"
      }
    },
    {
      "cell_type": "markdown",
      "source": [
        "# **TABLA CON LA CANTIDAD DE FILAS PERDIDAS**\n",
        " **0   UNIQUE_ID**       ||   147  \n",
        "\n",
        " **1   POSITION_TITLE**  ||   147  \n",
        "\n",
        " **2   DEPARTMENT**    ||     147  \n",
        "\n",
        " **3   BASE_SALARY**    ||    33 \n",
        "\n",
        " **4   RACE**          ||     112\n",
        " \n",
        " **5   EMPLOYMENT_TYPE** ||   147\n",
        " \n",
        " **6  GENDER**       ||       147 \n",
        "\n",
        "**7   EMPLOYMENT_STATUS** || 147  \n",
        "\n",
        " **8   HIRE_DATE**   ||       147\n",
        " \n",
        "**9   JOB_DATE**   ||       144"
      ],
      "metadata": {
        "id": "-7esoJbM-q1B"
      }
    },
    {
      "cell_type": "markdown",
      "source": [
        "Por medio de la tabla, observamos que la columna la cual perdio la menor cantidad de datos fue 'BASE_SALARY' perdiendo solo 33 datos, mientras que las columnas que perdieron la mayor cantidad de datos corresponden a 'UNIQUE_ID', 'POSITION_TITLE', 'DEPARTMENT', 'EMPLOYMENT_TYPE', 'GENDER', 'EMPLOYMENT_STATUS' y 'HIRE_DATE', todas estas columnas perdiendo 147 filas/datos."
      ],
      "metadata": {
        "id": "yQYVQ1wbDFud"
      }
    },
    {
      "cell_type": "markdown",
      "source": [
        "Tras eliminar los datos NaN, el dataset cuenta con un total de 1853 datos."
      ],
      "metadata": {
        "id": "XE1inW38D9Xz"
      }
    },
    {
      "cell_type": "markdown",
      "metadata": {
        "id": "BNJCX9m7-q1C"
      },
      "source": [
        "## 2.- ¿Cuál es el promedio de BASE_SALARY? \n",
        "    - Agregue una nueva columna 'SALARY' con valores '<= valor promedio', '> valor promedio'\n",
        "      Ejemplo: si el promedio es 34540, entonces la columna ['SALARY'] tendra dos valores ['<= 34k', '>34k']\n",
        "    - Elimine la columna BASE_SALARY"
      ]
    },
    {
      "cell_type": "markdown",
      "metadata": {
        "id": "ks47l5jw-q1C"
      },
      "source": [
        "<img src=\"./img/grafi02.png\">"
      ]
    },
    {
      "cell_type": "code",
      "execution_count": 5,
      "metadata": {
        "id": "LG6bIcjg-q1F",
        "colab": {
          "base_uri": "https://localhost:8080/"
        },
        "outputId": "0d03b9fc-3a7b-445d-f3e2-eae24527cbb8"
      },
      "outputs": [
        {
          "output_type": "execute_result",
          "data": {
            "text/plain": [
              "56085.90771721533"
            ]
          },
          "metadata": {},
          "execution_count": 5
        }
      ],
      "source": [
        "df_employee['BASE_SALARY'].mean()"
      ]
    },
    {
      "cell_type": "code",
      "source": [
        "df_employee['BASE_SALARY'].head()"
      ],
      "metadata": {
        "colab": {
          "base_uri": "https://localhost:8080/"
        },
        "id": "fDLrb-VkFqrv",
        "outputId": "20d1af69-15fd-4077-af49-c531ea3a4a3c"
      },
      "execution_count": 6,
      "outputs": [
        {
          "output_type": "execute_result",
          "data": {
            "text/plain": [
              "0    121862.0\n",
              "1     26125.0\n",
              "2     45279.0\n",
              "3     63166.0\n",
              "4     56347.0\n",
              "Name: BASE_SALARY, dtype: float64"
            ]
          },
          "metadata": {},
          "execution_count": 6
        }
      ]
    },
    {
      "cell_type": "markdown",
      "source": [
        "El promedio de la columna 'BASE_SALARY' es de 56085.9 asi que procederemos a utilizar '<=56k' y '>56k' para la columna de 'SALARY'"
      ],
      "metadata": {
        "id": "krgzq97iFWae"
      }
    },
    {
      "cell_type": "code",
      "source": [
        "df_employee['SALARY'] = df_employee['BASE_SALARY'].apply(lambda x:'<=56K' if x<=56000 else '>56K')\n",
        "df_employee.drop('BASE_SALARY', axis = 1, inplace=True)"
      ],
      "metadata": {
        "id": "HUBo3QufKpe-",
        "colab": {
          "base_uri": "https://localhost:8080/"
        },
        "outputId": "ee0fc225-e1e1-49b8-8f95-041b7e719044"
      },
      "execution_count": 7,
      "outputs": [
        {
          "output_type": "stream",
          "name": "stderr",
          "text": [
            "/usr/local/lib/python3.7/dist-packages/ipykernel_launcher.py:1: SettingWithCopyWarning: \n",
            "A value is trying to be set on a copy of a slice from a DataFrame.\n",
            "Try using .loc[row_indexer,col_indexer] = value instead\n",
            "\n",
            "See the caveats in the documentation: https://pandas.pydata.org/pandas-docs/stable/user_guide/indexing.html#returning-a-view-versus-a-copy\n",
            "  \"\"\"Entry point for launching an IPython kernel.\n",
            "/usr/local/lib/python3.7/dist-packages/pandas/core/frame.py:4913: SettingWithCopyWarning: \n",
            "A value is trying to be set on a copy of a slice from a DataFrame\n",
            "\n",
            "See the caveats in the documentation: https://pandas.pydata.org/pandas-docs/stable/user_guide/indexing.html#returning-a-view-versus-a-copy\n",
            "  errors=errors,\n"
          ]
        }
      ]
    },
    {
      "cell_type": "code",
      "execution_count": 8,
      "metadata": {
        "id": "NTaQ7qtd-q1G",
        "colab": {
          "base_uri": "https://localhost:8080/"
        },
        "outputId": "b6dab21a-c14c-4f1b-f674-460837fd097f"
      },
      "outputs": [
        {
          "output_type": "execute_result",
          "data": {
            "text/plain": [
              "0     >56K\n",
              "1    <=56K\n",
              "2    <=56K\n",
              "3     >56K\n",
              "4     >56K\n",
              "Name: SALARY, dtype: object"
            ]
          },
          "metadata": {},
          "execution_count": 8
        }
      ],
      "source": [
        "df_employee['SALARY'].head()"
      ]
    },
    {
      "cell_type": "code",
      "source": [
        "df_employee.head()"
      ],
      "metadata": {
        "colab": {
          "base_uri": "https://localhost:8080/",
          "height": 206
        },
        "id": "TNAtx3mONqz9",
        "outputId": "419e40bf-3f75-49bd-d6d3-7afa1c6ee2cb"
      },
      "execution_count": 9,
      "outputs": [
        {
          "output_type": "execute_result",
          "data": {
            "text/plain": [
              "   UNIQUE_ID               POSITION_TITLE                     DEPARTMENT  \\\n",
              "0          0  ASSISTANT DIRECTOR (EX LVL)    Municipal Courts Department   \n",
              "1          1            LIBRARY ASSISTANT                        Library   \n",
              "2          2               POLICE OFFICER  Houston Police Department-HPD   \n",
              "3          3            ENGINEER/OPERATOR  Houston Fire Department (HFD)   \n",
              "4          4                  ELECTRICIAN    General Services Department   \n",
              "\n",
              "              RACE EMPLOYMENT_TYPE  GENDER EMPLOYMENT_STATUS   HIRE_DATE  \\\n",
              "0  Hispanic/Latino       Full Time  Female            Active  2006-06-12   \n",
              "1  Hispanic/Latino       Full Time  Female            Active  2000-07-19   \n",
              "2            White       Full Time    Male            Active  2015-02-03   \n",
              "3            White       Full Time    Male            Active  1982-02-08   \n",
              "4            White       Full Time    Male            Active  1989-06-19   \n",
              "\n",
              "     JOB_DATE SALARY  \n",
              "0  2012-10-13   >56K  \n",
              "1  2010-09-18  <=56K  \n",
              "2  2015-02-03  <=56K  \n",
              "3  1991-05-25   >56K  \n",
              "4  1994-10-22   >56K  "
            ],
            "text/html": [
              "\n",
              "  <div id=\"df-4e369fba-5b3e-46f4-a9a2-265162340352\">\n",
              "    <div class=\"colab-df-container\">\n",
              "      <div>\n",
              "<style scoped>\n",
              "    .dataframe tbody tr th:only-of-type {\n",
              "        vertical-align: middle;\n",
              "    }\n",
              "\n",
              "    .dataframe tbody tr th {\n",
              "        vertical-align: top;\n",
              "    }\n",
              "\n",
              "    .dataframe thead th {\n",
              "        text-align: right;\n",
              "    }\n",
              "</style>\n",
              "<table border=\"1\" class=\"dataframe\">\n",
              "  <thead>\n",
              "    <tr style=\"text-align: right;\">\n",
              "      <th></th>\n",
              "      <th>UNIQUE_ID</th>\n",
              "      <th>POSITION_TITLE</th>\n",
              "      <th>DEPARTMENT</th>\n",
              "      <th>RACE</th>\n",
              "      <th>EMPLOYMENT_TYPE</th>\n",
              "      <th>GENDER</th>\n",
              "      <th>EMPLOYMENT_STATUS</th>\n",
              "      <th>HIRE_DATE</th>\n",
              "      <th>JOB_DATE</th>\n",
              "      <th>SALARY</th>\n",
              "    </tr>\n",
              "  </thead>\n",
              "  <tbody>\n",
              "    <tr>\n",
              "      <th>0</th>\n",
              "      <td>0</td>\n",
              "      <td>ASSISTANT DIRECTOR (EX LVL)</td>\n",
              "      <td>Municipal Courts Department</td>\n",
              "      <td>Hispanic/Latino</td>\n",
              "      <td>Full Time</td>\n",
              "      <td>Female</td>\n",
              "      <td>Active</td>\n",
              "      <td>2006-06-12</td>\n",
              "      <td>2012-10-13</td>\n",
              "      <td>&gt;56K</td>\n",
              "    </tr>\n",
              "    <tr>\n",
              "      <th>1</th>\n",
              "      <td>1</td>\n",
              "      <td>LIBRARY ASSISTANT</td>\n",
              "      <td>Library</td>\n",
              "      <td>Hispanic/Latino</td>\n",
              "      <td>Full Time</td>\n",
              "      <td>Female</td>\n",
              "      <td>Active</td>\n",
              "      <td>2000-07-19</td>\n",
              "      <td>2010-09-18</td>\n",
              "      <td>&lt;=56K</td>\n",
              "    </tr>\n",
              "    <tr>\n",
              "      <th>2</th>\n",
              "      <td>2</td>\n",
              "      <td>POLICE OFFICER</td>\n",
              "      <td>Houston Police Department-HPD</td>\n",
              "      <td>White</td>\n",
              "      <td>Full Time</td>\n",
              "      <td>Male</td>\n",
              "      <td>Active</td>\n",
              "      <td>2015-02-03</td>\n",
              "      <td>2015-02-03</td>\n",
              "      <td>&lt;=56K</td>\n",
              "    </tr>\n",
              "    <tr>\n",
              "      <th>3</th>\n",
              "      <td>3</td>\n",
              "      <td>ENGINEER/OPERATOR</td>\n",
              "      <td>Houston Fire Department (HFD)</td>\n",
              "      <td>White</td>\n",
              "      <td>Full Time</td>\n",
              "      <td>Male</td>\n",
              "      <td>Active</td>\n",
              "      <td>1982-02-08</td>\n",
              "      <td>1991-05-25</td>\n",
              "      <td>&gt;56K</td>\n",
              "    </tr>\n",
              "    <tr>\n",
              "      <th>4</th>\n",
              "      <td>4</td>\n",
              "      <td>ELECTRICIAN</td>\n",
              "      <td>General Services Department</td>\n",
              "      <td>White</td>\n",
              "      <td>Full Time</td>\n",
              "      <td>Male</td>\n",
              "      <td>Active</td>\n",
              "      <td>1989-06-19</td>\n",
              "      <td>1994-10-22</td>\n",
              "      <td>&gt;56K</td>\n",
              "    </tr>\n",
              "  </tbody>\n",
              "</table>\n",
              "</div>\n",
              "      <button class=\"colab-df-convert\" onclick=\"convertToInteractive('df-4e369fba-5b3e-46f4-a9a2-265162340352')\"\n",
              "              title=\"Convert this dataframe to an interactive table.\"\n",
              "              style=\"display:none;\">\n",
              "        \n",
              "  <svg xmlns=\"http://www.w3.org/2000/svg\" height=\"24px\"viewBox=\"0 0 24 24\"\n",
              "       width=\"24px\">\n",
              "    <path d=\"M0 0h24v24H0V0z\" fill=\"none\"/>\n",
              "    <path d=\"M18.56 5.44l.94 2.06.94-2.06 2.06-.94-2.06-.94-.94-2.06-.94 2.06-2.06.94zm-11 1L8.5 8.5l.94-2.06 2.06-.94-2.06-.94L8.5 2.5l-.94 2.06-2.06.94zm10 10l.94 2.06.94-2.06 2.06-.94-2.06-.94-.94-2.06-.94 2.06-2.06.94z\"/><path d=\"M17.41 7.96l-1.37-1.37c-.4-.4-.92-.59-1.43-.59-.52 0-1.04.2-1.43.59L10.3 9.45l-7.72 7.72c-.78.78-.78 2.05 0 2.83L4 21.41c.39.39.9.59 1.41.59.51 0 1.02-.2 1.41-.59l7.78-7.78 2.81-2.81c.8-.78.8-2.07 0-2.86zM5.41 20L4 18.59l7.72-7.72 1.47 1.35L5.41 20z\"/>\n",
              "  </svg>\n",
              "      </button>\n",
              "      \n",
              "  <style>\n",
              "    .colab-df-container {\n",
              "      display:flex;\n",
              "      flex-wrap:wrap;\n",
              "      gap: 12px;\n",
              "    }\n",
              "\n",
              "    .colab-df-convert {\n",
              "      background-color: #E8F0FE;\n",
              "      border: none;\n",
              "      border-radius: 50%;\n",
              "      cursor: pointer;\n",
              "      display: none;\n",
              "      fill: #1967D2;\n",
              "      height: 32px;\n",
              "      padding: 0 0 0 0;\n",
              "      width: 32px;\n",
              "    }\n",
              "\n",
              "    .colab-df-convert:hover {\n",
              "      background-color: #E2EBFA;\n",
              "      box-shadow: 0px 1px 2px rgba(60, 64, 67, 0.3), 0px 1px 3px 1px rgba(60, 64, 67, 0.15);\n",
              "      fill: #174EA6;\n",
              "    }\n",
              "\n",
              "    [theme=dark] .colab-df-convert {\n",
              "      background-color: #3B4455;\n",
              "      fill: #D2E3FC;\n",
              "    }\n",
              "\n",
              "    [theme=dark] .colab-df-convert:hover {\n",
              "      background-color: #434B5C;\n",
              "      box-shadow: 0px 1px 3px 1px rgba(0, 0, 0, 0.15);\n",
              "      filter: drop-shadow(0px 1px 2px rgba(0, 0, 0, 0.3));\n",
              "      fill: #FFFFFF;\n",
              "    }\n",
              "  </style>\n",
              "\n",
              "      <script>\n",
              "        const buttonEl =\n",
              "          document.querySelector('#df-4e369fba-5b3e-46f4-a9a2-265162340352 button.colab-df-convert');\n",
              "        buttonEl.style.display =\n",
              "          google.colab.kernel.accessAllowed ? 'block' : 'none';\n",
              "\n",
              "        async function convertToInteractive(key) {\n",
              "          const element = document.querySelector('#df-4e369fba-5b3e-46f4-a9a2-265162340352');\n",
              "          const dataTable =\n",
              "            await google.colab.kernel.invokeFunction('convertToInteractive',\n",
              "                                                     [key], {});\n",
              "          if (!dataTable) return;\n",
              "\n",
              "          const docLinkHtml = 'Like what you see? Visit the ' +\n",
              "            '<a target=\"_blank\" href=https://colab.research.google.com/notebooks/data_table.ipynb>data table notebook</a>'\n",
              "            + ' to learn more about interactive tables.';\n",
              "          element.innerHTML = '';\n",
              "          dataTable['output_type'] = 'display_data';\n",
              "          await google.colab.output.renderOutput(dataTable, element);\n",
              "          const docLink = document.createElement('div');\n",
              "          docLink.innerHTML = docLinkHtml;\n",
              "          element.appendChild(docLink);\n",
              "        }\n",
              "      </script>\n",
              "    </div>\n",
              "  </div>\n",
              "  "
            ]
          },
          "metadata": {},
          "execution_count": 9
        }
      ]
    },
    {
      "cell_type": "markdown",
      "source": [
        "Se realizo la creacion de la columna 'SALARY' con los datos categoricos basados en el promedio de la columna 'BASE_SALARY' la cual fue eliminada tras su utilizacion en la creacion de la columna 'SALARY'."
      ],
      "metadata": {
        "id": "N5gPgo15NzmJ"
      }
    },
    {
      "cell_type": "markdown",
      "metadata": {
        "id": "Fzyr5eok-q1G"
      },
      "source": [
        "## 3.- Añada una columna ['TOTAL_TIME_YEARS'] = ['JOB_DATE'] - ['HIRE_DATE']\n",
        "        - Recuerde que son columnas formato FECHA (pd.to_datetime) \n",
        "        - Elimine las columnas ['JOB_DATE'], ['HIRE_DATE']"
      ]
    },
    {
      "cell_type": "markdown",
      "metadata": {
        "id": "vy4WZrAj-q1H"
      },
      "source": [
        "<img src=\"./img/grafi032.png\">"
      ]
    },
    {
      "cell_type": "code",
      "source": [
        "df_employee['JOB_DATE'] = pd.to_datetime(df_employee['JOB_DATE'])\n",
        "df_employee['HIRE_DATE'] = pd.to_datetime(df_employee['HIRE_DATE'])"
      ],
      "metadata": {
        "id": "ojDghgavPVNp"
      },
      "execution_count": 10,
      "outputs": []
    },
    {
      "cell_type": "code",
      "source": [
        "df_employee['JOB_DATE'].head()"
      ],
      "metadata": {
        "colab": {
          "base_uri": "https://localhost:8080/"
        },
        "id": "4RQ4h_3nQhL8",
        "outputId": "e11e3e2c-8e23-4535-f94c-251ceb2eaedd"
      },
      "execution_count": 11,
      "outputs": [
        {
          "output_type": "execute_result",
          "data": {
            "text/plain": [
              "0   2012-10-13\n",
              "1   2010-09-18\n",
              "2   2015-02-03\n",
              "3   1991-05-25\n",
              "4   1994-10-22\n",
              "Name: JOB_DATE, dtype: datetime64[ns]"
            ]
          },
          "metadata": {},
          "execution_count": 11
        }
      ]
    },
    {
      "cell_type": "code",
      "source": [
        "df_employee['HIRE_DATE'].head()"
      ],
      "metadata": {
        "colab": {
          "base_uri": "https://localhost:8080/"
        },
        "id": "iQBGYR9fQkyM",
        "outputId": "e513503d-5ddf-4ffc-8f3f-ba43d8f096b9"
      },
      "execution_count": 12,
      "outputs": [
        {
          "output_type": "execute_result",
          "data": {
            "text/plain": [
              "0   2006-06-12\n",
              "1   2000-07-19\n",
              "2   2015-02-03\n",
              "3   1982-02-08\n",
              "4   1989-06-19\n",
              "Name: HIRE_DATE, dtype: datetime64[ns]"
            ]
          },
          "metadata": {},
          "execution_count": 12
        }
      ]
    },
    {
      "cell_type": "code",
      "execution_count": 13,
      "metadata": {
        "id": "zTxB5Mvi-q1I"
      },
      "outputs": [],
      "source": [
        "df_employee['TOTAL_TIME_YEARS'] = (df_employee['JOB_DATE'] - df_employee['HIRE_DATE']).dt.days\n",
        "df_employee.drop('HIRE_DATE', axis = 1, inplace=True)\n",
        "df_employee.drop('JOB_DATE', axis = 1, inplace=True)"
      ]
    },
    {
      "cell_type": "code",
      "execution_count": 14,
      "metadata": {
        "id": "051f-vGO-q1J"
      },
      "outputs": [],
      "source": [
        "df_employee['TOTAL_TIME_YEARS'] = df_employee['TOTAL_TIME_YEARS']/365"
      ]
    },
    {
      "cell_type": "code",
      "execution_count": 15,
      "metadata": {
        "id": "8n1QyvTl-q1J",
        "colab": {
          "base_uri": "https://localhost:8080/"
        },
        "outputId": "c3e510cc-6571-4fe3-f20a-d9891caabf26"
      },
      "outputs": [
        {
          "output_type": "execute_result",
          "data": {
            "text/plain": [
              "0     6.342466\n",
              "1    10.172603\n",
              "2     0.000000\n",
              "3     9.295890\n",
              "4     5.345205\n",
              "Name: TOTAL_TIME_YEARS, dtype: float64"
            ]
          },
          "metadata": {},
          "execution_count": 15
        }
      ],
      "source": [
        "df_employee['TOTAL_TIME_YEARS'].head()"
      ]
    },
    {
      "cell_type": "markdown",
      "metadata": {
        "id": "PQkjlbyE-q1J"
      },
      "source": [
        "## 4.- Elabore una gráfica que presente la cantidad de años trabajados del Empleado por raza y por Genero\n",
        "      - ['TOTAL_TIME_YEARS'] ['RACE'] ['GENDER']"
      ]
    },
    {
      "cell_type": "markdown",
      "metadata": {
        "id": "oVsuRSBI-q1K"
      },
      "source": [
        "<img src=\"./img/grafi.png\" style=\"width:450px\">"
      ]
    },
    {
      "cell_type": "code",
      "source": [
        "df_employee['TOTAL_TIME_YEARS'].astype(int)"
      ],
      "metadata": {
        "colab": {
          "base_uri": "https://localhost:8080/"
        },
        "id": "U70dxQS6XujB",
        "outputId": "2b77b819-2818-4b03-d215-5fafa96f1711"
      },
      "execution_count": 16,
      "outputs": [
        {
          "output_type": "execute_result",
          "data": {
            "text/plain": [
              "0        6\n",
              "1       10\n",
              "2        0\n",
              "3        9\n",
              "4        5\n",
              "        ..\n",
              "1995     1\n",
              "1996    10\n",
              "1997     1\n",
              "1998     2\n",
              "1999     1\n",
              "Name: TOTAL_TIME_YEARS, Length: 1853, dtype: int64"
            ]
          },
          "metadata": {},
          "execution_count": 16
        }
      ]
    },
    {
      "cell_type": "code",
      "execution_count": 17,
      "metadata": {
        "id": "pKFqxvr8-q1L",
        "colab": {
          "base_uri": "https://localhost:8080/",
          "height": 387
        },
        "outputId": "60bc1581-3f10-4a15-d8ed-cf08cc0391ea"
      },
      "outputs": [
        {
          "output_type": "execute_result",
          "data": {
            "text/plain": [
              "<seaborn.axisgrid.FacetGrid at 0x7fc7f8e65b10>"
            ]
          },
          "metadata": {},
          "execution_count": 17
        },
        {
          "output_type": "display_data",
          "data": {
            "text/plain": [
              "<Figure size 568.875x360 with 1 Axes>"
            ],
            "image/png": "[encoded data removed]"
          },
          "metadata": {
            "needs_background": "light"
          }
        }
      ],
      "source": [
        "sns.displot(data = df_employee, x = 'TOTAL_TIME_YEARS', hue = 'RACE', kde = True)"
      ]
    },
    {
      "cell_type": "code",
      "execution_count": 18,
      "metadata": {
        "id": "zUjTnnZY-q1M",
        "colab": {
          "base_uri": "https://localhost:8080/",
          "height": 298
        },
        "outputId": "acb5f9e6-786c-484f-9f78-0b9b29a0ed86"
      },
      "outputs": [
        {
          "output_type": "execute_result",
          "data": {
            "text/plain": [
              "<matplotlib.axes._subplots.AxesSubplot at 0x7fc7f63f68d0>"
            ]
          },
          "metadata": {},
          "execution_count": 18
        },
        {
          "output_type": "display_data",
          "data": {
            "text/plain": [
              "<Figure size 432x288 with 1 Axes>"
            ],
            "image/png": "[encoded data removed]"
          },
          "metadata": {
            "needs_background": "light"
          }
        }
      ],
      "source": [
        "sns.histplot(data = df_employee, x = 'TOTAL_TIME_YEARS', hue = 'GENDER', kde = True)"
      ]
    },
    {
      "cell_type": "markdown",
      "source": [
        "\n",
        "\n",
        "*   En la tabla de Total_time_years vs Race observamos que el grupo etnico que se encuentra con 0 años de experiencia laboral son los Afro americanos\n",
        "*   En la tabla de Total_time_years vs Gender observamos que hay una mayor cantidad de desempleados de genero masculino.\n",
        "*   En la tabla de Total_time_years vs Race observamos que existen muy pocos datos recopilados en lo que respecta a Asiaticos e Indios.\n",
        "* En la tabla de Total_time_years vs Race observamos que los Latinos y los Blancos poseen una linea cercana en lo que respecta a 0 años laborales.\n",
        "* En la tabla de Total_time_years vs Race observamos que al finalizar la tabla, el grupo etnico que posee la mayor cantidad de años laborales tiende a ser los Blancos.\n",
        "\n"
      ],
      "metadata": {
        "id": "kkHh8SaxaoYH"
      }
    },
    {
      "cell_type": "markdown",
      "metadata": {
        "id": "GGE2be2D-q1N"
      },
      "source": [
        "## 5.- ¿Cuántos hombres y mujeres ['GENDER'] están representados en el DataFrame?"
      ]
    },
    {
      "cell_type": "code",
      "execution_count": 19,
      "metadata": {
        "id": "BGUZ9l4g-q1N",
        "colab": {
          "base_uri": "https://localhost:8080/"
        },
        "outputId": "ccee9450-dc3a-471f-bfc9-56c6fa59d521"
      },
      "outputs": [
        {
          "output_type": "execute_result",
          "data": {
            "text/plain": [
              "Male      1288\n",
              "Female     565\n",
              "Name: GENDER, dtype: int64"
            ]
          },
          "metadata": {},
          "execution_count": 19
        }
      ],
      "source": [
        "df_employee['GENDER'].value_counts()"
      ]
    },
    {
      "cell_type": "markdown",
      "metadata": {
        "id": "Mo7sXflZ-q1N"
      },
      "source": [
        "## 6.- ¿Cuál es el tiempo promedio ['TOTAL_TIME_YEARS']? \n",
        "        - ¿Tiempo Promedio de las mujeres?\n",
        "        - ¿Tiempo Promedio de los hombres?"
      ]
    },
    {
      "cell_type": "code",
      "execution_count": 20,
      "metadata": {
        "id": "VY_Tx6dV-q1O",
        "colab": {
          "base_uri": "https://localhost:8080/",
          "height": 144
        },
        "outputId": "6d82487c-6d23-446b-b9bd-624b0dc506c8"
      },
      "outputs": [
        {
          "output_type": "execute_result",
          "data": {
            "text/plain": [
              "        TOTAL_TIME_YEARS\n",
              "GENDER                  \n",
              "Female          6.817636\n",
              "Male            6.895652"
            ],
            "text/html": [
              "\n",
              "  <div id=\"df-9f59401a-b9b8-4098-a000-872f3482b04e\">\n",
              "    <div class=\"colab-df-container\">\n",
              "      <div>\n",
              "<style scoped>\n",
              "    .dataframe tbody tr th:only-of-type {\n",
              "        vertical-align: middle;\n",
              "    }\n",
              "\n",
              "    .dataframe tbody tr th {\n",
              "        vertical-align: top;\n",
              "    }\n",
              "\n",
              "    .dataframe thead th {\n",
              "        text-align: right;\n",
              "    }\n",
              "</style>\n",
              "<table border=\"1\" class=\"dataframe\">\n",
              "  <thead>\n",
              "    <tr style=\"text-align: right;\">\n",
              "      <th></th>\n",
              "      <th>TOTAL_TIME_YEARS</th>\n",
              "    </tr>\n",
              "    <tr>\n",
              "      <th>GENDER</th>\n",
              "      <th></th>\n",
              "    </tr>\n",
              "  </thead>\n",
              "  <tbody>\n",
              "    <tr>\n",
              "      <th>Female</th>\n",
              "      <td>6.817636</td>\n",
              "    </tr>\n",
              "    <tr>\n",
              "      <th>Male</th>\n",
              "      <td>6.895652</td>\n",
              "    </tr>\n",
              "  </tbody>\n",
              "</table>\n",
              "</div>\n",
              "      <button class=\"colab-df-convert\" onclick=\"convertToInteractive('df-9f59401a-b9b8-4098-a000-872f3482b04e')\"\n",
              "              title=\"Convert this dataframe to an interactive table.\"\n",
              "              style=\"display:none;\">\n",
              "        \n",
              "  <svg xmlns=\"http://www.w3.org/2000/svg\" height=\"24px\"viewBox=\"0 0 24 24\"\n",
              "       width=\"24px\">\n",
              "    <path d=\"M0 0h24v24H0V0z\" fill=\"none\"/>\n",
              "    <path d=\"M18.56 5.44l.94 2.06.94-2.06 2.06-.94-2.06-.94-.94-2.06-.94 2.06-2.06.94zm-11 1L8.5 8.5l.94-2.06 2.06-.94-2.06-.94L8.5 2.5l-.94 2.06-2.06.94zm10 10l.94 2.06.94-2.06 2.06-.94-2.06-.94-.94-2.06-.94 2.06-2.06.94z\"/><path d=\"M17.41 7.96l-1.37-1.37c-.4-.4-.92-.59-1.43-.59-.52 0-1.04.2-1.43.59L10.3 9.45l-7.72 7.72c-.78.78-.78 2.05 0 2.83L4 21.41c.39.39.9.59 1.41.59.51 0 1.02-.2 1.41-.59l7.78-7.78 2.81-2.81c.8-.78.8-2.07 0-2.86zM5.41 20L4 18.59l7.72-7.72 1.47 1.35L5.41 20z\"/>\n",
              "  </svg>\n",
              "      </button>\n",
              "      \n",
              "  <style>\n",
              "    .colab-df-container {\n",
              "      display:flex;\n",
              "      flex-wrap:wrap;\n",
              "      gap: 12px;\n",
              "    }\n",
              "\n",
              "    .colab-df-convert {\n",
              "      background-color: #E8F0FE;\n",
              "      border: none;\n",
              "      border-radius: 50%;\n",
              "      cursor: pointer;\n",
              "      display: none;\n",
              "      fill: #1967D2;\n",
              "      height: 32px;\n",
              "      padding: 0 0 0 0;\n",
              "      width: 32px;\n",
              "    }\n",
              "\n",
              "    .colab-df-convert:hover {\n",
              "      background-color: #E2EBFA;\n",
              "      box-shadow: 0px 1px 2px rgba(60, 64, 67, 0.3), 0px 1px 3px 1px rgba(60, 64, 67, 0.15);\n",
              "      fill: #174EA6;\n",
              "    }\n",
              "\n",
              "    [theme=dark] .colab-df-convert {\n",
              "      background-color: #3B4455;\n",
              "      fill: #D2E3FC;\n",
              "    }\n",
              "\n",
              "    [theme=dark] .colab-df-convert:hover {\n",
              "      background-color: #434B5C;\n",
              "      box-shadow: 0px 1px 3px 1px rgba(0, 0, 0, 0.15);\n",
              "      filter: drop-shadow(0px 1px 2px rgba(0, 0, 0, 0.3));\n",
              "      fill: #FFFFFF;\n",
              "    }\n",
              "  </style>\n",
              "\n",
              "      <script>\n",
              "        const buttonEl =\n",
              "          document.querySelector('#df-9f59401a-b9b8-4098-a000-872f3482b04e button.colab-df-convert');\n",
              "        buttonEl.style.display =\n",
              "          google.colab.kernel.accessAllowed ? 'block' : 'none';\n",
              "\n",
              "        async function convertToInteractive(key) {\n",
              "          const element = document.querySelector('#df-9f59401a-b9b8-4098-a000-872f3482b04e');\n",
              "          const dataTable =\n",
              "            await google.colab.kernel.invokeFunction('convertToInteractive',\n",
              "                                                     [key], {});\n",
              "          if (!dataTable) return;\n",
              "\n",
              "          const docLinkHtml = 'Like what you see? Visit the ' +\n",
              "            '<a target=\"_blank\" href=https://colab.research.google.com/notebooks/data_table.ipynb>data table notebook</a>'\n",
              "            + ' to learn more about interactive tables.';\n",
              "          element.innerHTML = '';\n",
              "          dataTable['output_type'] = 'display_data';\n",
              "          await google.colab.output.renderOutput(dataTable, element);\n",
              "          const docLink = document.createElement('div');\n",
              "          docLink.innerHTML = docLinkHtml;\n",
              "          element.appendChild(docLink);\n",
              "        }\n",
              "      </script>\n",
              "    </div>\n",
              "  </div>\n",
              "  "
            ]
          },
          "metadata": {},
          "execution_count": 20
        }
      ],
      "source": [
        "df_employee[[\"TOTAL_TIME_YEARS\", \"GENDER\"]].groupby('GENDER').mean()"
      ]
    },
    {
      "cell_type": "markdown",
      "metadata": {
        "id": "aDpXhEf5-q1P"
      },
      "source": [
        "## 7.-  ¿Cuál es la proporción de empleados Hispanic/Latinos ['RACE']?\n",
        "    - Bonus--> ¿Cuál es la proporción de Mujeres en el total del grupo de Hipanic/Latino"
      ]
    },
    {
      "cell_type": "code",
      "execution_count": 21,
      "metadata": {
        "id": "GZ2rW8v0-q1P",
        "colab": {
          "base_uri": "https://localhost:8080/"
        },
        "outputId": "8344afe5-350e-4825-f99f-e18f9bf2022f"
      },
      "outputs": [
        {
          "output_type": "execute_result",
          "data": {
            "text/plain": [
              "461"
            ]
          },
          "metadata": {},
          "execution_count": 21
        }
      ],
      "source": [
        "df_employee['RACE'].value_counts()['Hispanic/Latino']"
      ]
    },
    {
      "cell_type": "code",
      "execution_count": 22,
      "metadata": {
        "id": "L7uXsvCS-q1P",
        "colab": {
          "base_uri": "https://localhost:8080/"
        },
        "outputId": "88a45e5c-6b0c-480a-c823-cb99aea40a89"
      },
      "outputs": [
        {
          "output_type": "stream",
          "name": "stdout",
          "text": [
            "<class 'pandas.core.frame.DataFrame'>\n",
            "Int64Index: 1853 entries, 0 to 1999\n",
            "Data columns (total 9 columns):\n",
            " #   Column             Non-Null Count  Dtype  \n",
            "---  ------             --------------  -----  \n",
            " 0   UNIQUE_ID          1853 non-null   int64  \n",
            " 1   POSITION_TITLE     1853 non-null   object \n",
            " 2   DEPARTMENT         1853 non-null   object \n",
            " 3   RACE               1853 non-null   object \n",
            " 4   EMPLOYMENT_TYPE    1853 non-null   object \n",
            " 5   GENDER             1853 non-null   object \n",
            " 6   EMPLOYMENT_STATUS  1853 non-null   object \n",
            " 7   SALARY             1853 non-null   object \n",
            " 8   TOTAL_TIME_YEARS   1853 non-null   float64\n",
            "dtypes: float64(1), int64(1), object(7)\n",
            "memory usage: 209.3+ KB\n"
          ]
        }
      ],
      "source": [
        "df_employee.info()"
      ]
    },
    {
      "cell_type": "code",
      "source": [
        "x = 461/1853"
      ],
      "metadata": {
        "id": "X8BqASyMoW0o"
      },
      "execution_count": 23,
      "outputs": []
    },
    {
      "cell_type": "code",
      "source": [
        "xpercent = x * 100\n",
        "print(xpercent)"
      ],
      "metadata": {
        "colab": {
          "base_uri": "https://localhost:8080/"
        },
        "id": "WErcM_huoa7t",
        "outputId": "b24c2a96-ef85-4e71-bf69-1e50b990c27f"
      },
      "execution_count": 24,
      "outputs": [
        {
          "output_type": "stream",
          "name": "stdout",
          "text": [
            "24.878575283324338\n"
          ]
        }
      ]
    },
    {
      "cell_type": "markdown",
      "source": [
        "x = 461/1853 = 0.2487\n",
        "\n",
        "x% = 0.2487 * 100 = 24.87%\n",
        "\n",
        "El porcentaje de Hispanic/Latino en el dataset es equivalente al 24.87%"
      ],
      "metadata": {
        "id": "eDG8KYxkn-Jh"
      }
    },
    {
      "cell_type": "code",
      "source": [
        "df_employee['GENDER'].value_counts()['Female']"
      ],
      "metadata": {
        "colab": {
          "base_uri": "https://localhost:8080/"
        },
        "id": "cHaMnGUFo6b8",
        "outputId": "0411e818-837c-4f14-e8c5-8c8895457811"
      },
      "execution_count": 25,
      "outputs": [
        {
          "output_type": "execute_result",
          "data": {
            "text/plain": [
              "565"
            ]
          },
          "metadata": {},
          "execution_count": 25
        }
      ]
    },
    {
      "cell_type": "code",
      "source": [
        "x = 565 * 0.2487\n",
        "print(x)"
      ],
      "metadata": {
        "colab": {
          "base_uri": "https://localhost:8080/"
        },
        "id": "KEA1cyvTpArO",
        "outputId": "e6dea2ca-d9ce-4999-cb5b-6db8c3bd9d00"
      },
      "execution_count": 26,
      "outputs": [
        {
          "output_type": "stream",
          "name": "stdout",
          "text": [
            "140.5155\n"
          ]
        }
      ]
    },
    {
      "cell_type": "markdown",
      "source": [
        "La cantidad de mujeres que pertenecen al grupo Hispanic/Latino es de 140 mujeres"
      ],
      "metadata": {
        "id": "peahdongpL8a"
      }
    },
    {
      "cell_type": "markdown",
      "metadata": {
        "id": "x_iUbW4s-q1Q"
      },
      "source": [
        "## 8.- ¿Cuantos 'POLICE OFFICER' tienen salario por encima del promedio del salario?\n",
        "    - Bonus--> ¿Cuantos 'POLICE OFFICER' son mujeres y cuantos hombres?"
      ]
    },
    {
      "cell_type": "code",
      "execution_count": 27,
      "metadata": {
        "id": "1auQ5Ltj-q1Q",
        "colab": {
          "base_uri": "https://localhost:8080/"
        },
        "outputId": "f6d4c0bd-95ac-4d17-8141-8877fc9d82a7"
      },
      "outputs": [
        {
          "output_type": "execute_result",
          "data": {
            "text/plain": [
              "SALARY\n",
              "<=56K    154\n",
              ">56K      30\n",
              "dtype: int64"
            ]
          },
          "metadata": {},
          "execution_count": 27
        }
      ],
      "source": [
        "df_employee[[\"POSITION_TITLE\", \"SALARY\"]].value_counts()['POLICE OFFICER']"
      ]
    },
    {
      "cell_type": "markdown",
      "source": [
        "La cantidad de policias que tienen un salario mayor al promedio es de 154"
      ],
      "metadata": {
        "id": "NMrHocZlqW8E"
      }
    },
    {
      "cell_type": "code",
      "execution_count": 28,
      "metadata": {
        "id": "PhhBcXZ8-q1Q",
        "colab": {
          "base_uri": "https://localhost:8080/"
        },
        "outputId": "cf33b54c-c0a1-48ea-edae-626d007593fe"
      },
      "outputs": [
        {
          "output_type": "execute_result",
          "data": {
            "text/plain": [
              "GENDER\n",
              "Male      149\n",
              "Female     35\n",
              "dtype: int64"
            ]
          },
          "metadata": {},
          "execution_count": 28
        }
      ],
      "source": [
        "df_employee[[\"POSITION_TITLE\", \"GENDER\"]].value_counts()['POLICE OFFICER']"
      ]
    },
    {
      "cell_type": "markdown",
      "source": [
        "Existen 149 policias de genero masculino y 35 policias de genero femenino"
      ],
      "metadata": {
        "id": "Qo2vLOtKrm1F"
      }
    },
    {
      "cell_type": "markdown",
      "metadata": {
        "id": "GlF-0fS9-q1R"
      },
      "source": [
        "## 9.- Presente los 2 empleados con más tiempo ['TOTAL_TIME_YEARS'] en el dataframe."
      ]
    },
    {
      "cell_type": "code",
      "execution_count": 29,
      "metadata": {
        "id": "P4bBBi4o-q1R",
        "colab": {
          "base_uri": "https://localhost:8080/"
        },
        "outputId": "c51e94f6-5f28-43c8-bc88-3d3c95b1125b"
      },
      "outputs": [
        {
          "output_type": "execute_result",
          "data": {
            "text/plain": [
              "1466    35.895890\n",
              "807     35.643836\n",
              "Name: TOTAL_TIME_YEARS, dtype: float64"
            ]
          },
          "metadata": {},
          "execution_count": 29
        }
      ],
      "source": [
        "df_employee[\"TOTAL_TIME_YEARS\"].nlargest(2)"
      ]
    },
    {
      "cell_type": "markdown",
      "source": [
        "Los empleados con el mayor tiempo empleado corresponde a los empleados con el UID 1466 y 807"
      ],
      "metadata": {
        "id": "N5dRqJ3qsLao"
      }
    },
    {
      "cell_type": "markdown",
      "source": [
        "# ================================================================================"
      ],
      "metadata": {
        "id": "WuAsSXdAtXy6"
      }
    },
    {
      "cell_type": "markdown",
      "source": [
        "#**Conclusiones**\n",
        "\n",
        "* Se presento un dataset con enfoque al empleo\n",
        "* Al dataset se le realizaron los correspondientes cambios requeridos\n",
        "* Se encontraron en el dataset, variables categoricas y variables numericas\n",
        "* Las variables numericas fueron analizadas: El proposito es revisar la relacion entre las variables y descartar aquellas que no influian o dererioraban las relaciones y remplazarlas por variables que cumplan una funcion especifica.\n",
        "* Para el dataframe se elimino los datos desaparecidos o imposibles, dado que no estos datos representaban una problematica a la hora de realizar el analisis.\n",
        "* La columna **BASE_SALARY** se elimino y se creo la columna categorica **SALARY** tomando en cuenta el promedio total.\n",
        "* Finalmente, el dataframe quedo preprocesado con 7 variables  del tipo 'object', y 2 variables del tipo 'int64'.\n"
      ],
      "metadata": {
        "id": "d_NMx5t6sy5K"
      }
    }
  ],
  "metadata": {
    "kernelspec": {
      "display_name": "Python 3",
      "language": "python",
      "name": "python3"
    },
    "language_info": {
      "codemirror_mode": {
        "name": "ipython",
        "version": 3
      },
      "file_extension": ".py",
      "mimetype": "text/x-python",
      "name": "python",
      "nbconvert_exporter": "python",
      "pygments_lexer": "ipython3",
      "version": "3.9.1"
    },
    "colab": {
      "provenance": [],
      "collapsed_sections": [],
      "include_colab_link": true
    }
  },
  "nbformat": 4,
  "nbformat_minor": 0
}